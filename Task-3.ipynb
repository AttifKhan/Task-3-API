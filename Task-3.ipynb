{
 "cells": [
  {
   "cell_type": "code",
   "execution_count": null,
   "id": "186b9194",
   "metadata": {},
   "outputs": [],
   "source": [
    "from flask import Flask, jsonify\n",
    "import datetime\n",
    "import calendar\n",
    "import subprocess\n",
    "\n",
    "app = Flask(__name__)\n",
    "\n",
    "@app.route('/date')\n",
    "def get_date():\n",
    "    current_date = datetime.date.today()\n",
    "    return jsonify({'date': str(current_date)})\n",
    "\n",
    "@app.route('/calendar/<int:year>/<int:month>')\n",
    "def get_calendar(year, month):\n",
    "    cal = calendar.monthcalendar(year, month)\n",
    "    return jsonify({'calendar': cal})\n",
    "\n",
    "@app.route('/docker/status')\n",
    "def get_docker_status():\n",
    "    cmd = ['docker', 'info']\n",
    "    output = subprocess.check_output(cmd).decode('utf-8')\n",
    "    return jsonify({'docker_status': output})\n",
    "\n",
    "if __name__ == '__main__':\n",
    "    app.run(debug=True)\n"
   ]
  }
 ],
 "metadata": {
  "kernelspec": {
   "display_name": "Python 3 (ipykernel)",
   "language": "python",
   "name": "python3"
  },
  "language_info": {
   "codemirror_mode": {
    "name": "ipython",
    "version": 3
   },
   "file_extension": ".py",
   "mimetype": "text/x-python",
   "name": "python",
   "nbconvert_exporter": "python",
   "pygments_lexer": "ipython3",
   "version": "3.11.3"
  }
 },
 "nbformat": 4,
 "nbformat_minor": 5
}
